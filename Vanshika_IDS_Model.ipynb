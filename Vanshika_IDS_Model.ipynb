{
  "nbformat": 4,
  "nbformat_minor": 0,
  "metadata": {
    "colab": {
      "name": " Vanshika_IDS_Model.ipynb",
      "provenance": [],
      "collapsed_sections": [
        "lwDJjGu05mun",
        "m8qrA3gf8ff1",
        "TRdNhuCk9bKs",
        "ngbGaZ8LY65F"
      ]
    },
    "kernelspec": {
      "name": "python3",
      "display_name": "Python 3"
    },
    "accelerator": "TPU"
  },
  "cells": [
    {
      "cell_type": "markdown",
      "metadata": {
        "id": "lwDJjGu05mun",
        "colab_type": "text"
      },
      "source": [
        "# Preprocessing"
      ]
    },
    {
      "cell_type": "code",
      "metadata": {
        "id": "_kLW9Yl1492y",
        "colab_type": "code",
        "colab": {}
      },
      "source": [
        "import pandas as pd\n",
        "import numpy as np\n",
        "from glob import glob\n",
        "from sklearn import preprocessing\n",
        "from sklearn.model_selection import StratifiedShuffleSplit\n",
        "from sklearn.preprocessing import StandardScaler\n",
        "import os\n",
        "\n",
        "def combine_csv():\n",
        "    data_files = sorted(glob('/content/drive/My Drive/MachineLearningCSV/MachineLearningCVE/Dataset/*.pcap_ISCX.csv'))\n",
        "    ids = pd.read_csv(data_files[0])\n",
        "    for i in range(1, len(data_files)):\n",
        "        dfi = pd.read_csv(data_files[i])\n",
        "        dfi.dropna(axis=0, how='any', inplace=True)\n",
        "        ids = pd.concat((ids, dfi), ignore_index=True)\n",
        "    \n",
        "    del dfi\n",
        "    print(ids.head())\n",
        "    print(ids.head())\n",
        "    ids.to_csv('/content/drive/My Drive/MachineLearningCSV/MachineLearningCVE/Dataset/combined_data.csv', index=False)\n",
        "\n",
        "\n",
        "def resize_dataset():\n",
        "    ids = pd.read_csv('/content/drive/My Drive/MachineLearningCSV/MachineLearningCVE/Dataset/combined_data.csv',\n",
        "                      dtype={'Flow Bytes/s': str, ' Flow Packets/s': str})\n",
        "    labels_to_drop = {'BENIGN': 0.1, 'DoS Hulk': 0.3, 'DDoS': 0.3, 'PortScan': 0.3}\n",
        "    for label in labels_to_drop:\n",
        "        df = ids.loc[ids[' Label'] == label]\n",
        "        ids.drop(ids.index[ids[' Label'] == label], inplace=True)\n",
        "        df = df.sample(frac=labels_to_drop[label])\n",
        "        ids = pd.concat((ids, df), ignore_index=True)\n",
        "\n",
        "    ids = ids.sample(frac=1, random_state=42)\n",
        "    ids.reset_index(drop=True, inplace=True)\n",
        "    ids['Flow Bytes/s'] = ids['Flow Bytes/s'].str.strip()\n",
        "    ids[' Flow Packets/s'] = ids[' Flow Packets/s'].str.strip()\n",
        "    ids = ids.astype({'Flow Bytes/s': float, ' Flow Packets/s': float})\n",
        "    ids.columns = ids.columns.str.strip()\n",
        "    ids.dropna(inplace=True)\n",
        "    indices_to_keep = ~ids.isin([np.nan, np.inf, -np.inf]).any(axis=1)\n",
        "    ids = ids[indices_to_keep]\n",
        "    ids.to_csv('/content/drive/My Drive/MachineLearningCSV/MachineLearningCVE/Dataset/resized_data.csv', index=False)\n",
        "    return ids\n",
        "\n",
        "\n",
        "def binary_label_encoder(y):\n",
        "    '''\n",
        "    converts multiclass labels to binary labels\n",
        "    '''\n",
        "    y[\"BinaryLabel\"] = (y[\"Label\"] != 'BENIGN').astype(int)\n",
        "\n",
        "    return y\n",
        "\n",
        "\n",
        "def split_dataset(df):\n",
        "    '''\n",
        "    Takes a dataframe df and splits it in 0.7:0.15:0.15 ratio for training, cross-validation and test sets.\n",
        "    '''\n",
        "    split = StratifiedShuffleSplit(n_splits=1, test_size=0.15, random_state=42)\n",
        "    for train_index, test_index in split.split(df, df['BinaryLabel']):\n",
        "        train = df.loc[train_index]\n",
        "        test = df.loc[test_index]\n",
        "\n",
        "    for train_index, cv_index in split.split(train, train['BinaryLabel']):\n",
        "        train = df.loc[train_index]\n",
        "        cv = df.loc[cv_index]\n",
        "\n",
        "    return train, cv, test\n",
        "\n",
        "\n",
        "def main():\n",
        "    if not os.path.isfile('/content/drive/My Drive/MachineLearningCSV/MachineLearningCVE/Dataset/combined_data.csv'):\n",
        "        combine_csv()\n",
        "    if not os.path.isfile('/content/drive/My Drive/MachineLearningCSV/MachineLearningCVE/Dataset/resized_data.csv'):\n",
        "        resize_dataset()\n",
        "\n",
        "\n",
        "if __name__ == \"__main__\":\n",
        "    main()\n"
      ],
      "execution_count": 0,
      "outputs": []
    },
    {
      "cell_type": "markdown",
      "metadata": {
        "id": "m8qrA3gf8ff1",
        "colab_type": "text"
      },
      "source": [
        "# Feature Selection"
      ]
    },
    {
      "cell_type": "code",
      "metadata": {
        "id": "q4CCOoBu8dFh",
        "colab_type": "code",
        "outputId": "7b0ffa1f-ab75-45a1-d4e1-db2db1e3a394",
        "colab": {
          "base_uri": "https://localhost:8080/",
          "height": 219
        }
      },
      "source": [
        "import pandas as pd\n",
        "import numpy as np\n",
        "from sklearn.feature_selection import SelectKBest\n",
        "from sklearn.preprocessing import MinMaxScaler\n",
        "from sklearn.feature_selection import chi2\n",
        "#from preprocessing import binary_label_encoder, split_dataset\n",
        "\n",
        "dataset = pd.read_csv(\"/content/drive/My Drive/MachineLearningCSV/MachineLearningCVE/Dataset/resized_data.csv\")\n",
        "dataset = binary_label_encoder(dataset)\n",
        "train, cv, test = split_dataset(dataset)\n",
        "\n",
        "\n",
        "y_train = train[['BinaryLabel']]\n",
        "X_train = train.drop(['Label', 'BinaryLabel'], axis=1, inplace=False)\n",
        "cols = X_train.columns.tolist()\n",
        "mm_scaler = MinMaxScaler()\n",
        "X_new = X_train\n",
        "X_new[cols] = mm_scaler.fit_transform(X_train[cols])\n",
        "y_train = y_train['BinaryLabel'].values\n",
        "\n",
        "y_test = test[['BinaryLabel']]\n",
        "X_test = test.drop(['Label', 'BinaryLabel'], axis=1, inplace=False)\n",
        "cols = X_test.columns.tolist()\n",
        "mm_scaler = MinMaxScaler()\n",
        "X_new_test = X_test\n",
        "X_new_test[cols] = mm_scaler.fit_transform(X_test[cols])\n",
        "y_test = y_test['BinaryLabel'].values\n",
        "\n",
        "\n",
        "# Features needed can be changed below to get the top 'k'\n",
        "# features for model training\n",
        "features_needed = 15\n",
        "\n",
        "######################################################################\n",
        "\n",
        "print(\"Selection based on Pearson Correlation\")\n",
        "\n",
        "\n",
        "def cor_selector(X, y, num_feats):\n",
        "    cor_list = []\n",
        "    feature_name = X.columns.tolist()\n",
        "    # calculate the correlation with y for each feature\n",
        "    for i in X.columns.tolist():\n",
        "        cor = np.corrcoef(X[i], y)[0, 1]\n",
        "        cor_list.append(cor)\n",
        "    # replace NaN with 0\n",
        "    cor_list = [0 if np.isnan(i) else i for i in cor_list]\n",
        "    # feature name\n",
        "    cor_feature = X.iloc[:, np.argsort(np.abs(cor_list))[-num_feats:]].columns.tolist()\n",
        "    # feature selection? 0 for not select, 1 for select\n",
        "    cor_support = [True if i in cor_feature else False for i in feature_name]\n",
        "    return cor_support, cor_feature\n",
        "\n",
        "\n",
        "cor_support, cor_feature = cor_selector(X_new, y_train, features_needed)\n",
        "print(str(len(cor_feature)), 'selected features')\n",
        "print(cor_feature)\n",
        "\n",
        "#####################################################################\n",
        "\n",
        "print(\"Selection based on chi square distibution\")\n",
        "\n",
        "chi_selector = SelectKBest(chi2, k=features_needed)\n",
        "X_kbest_features = chi_selector.fit_transform(X_new, y_train)\n",
        "chi_support = chi_selector.get_support()\n",
        "chi_feature = X_new.loc[:, chi_support].columns.tolist()\n",
        "print(str(len(chi_feature)), 'selected features')\n",
        "print(chi_feature)\n",
        "\n",
        "\n",
        "# # More Raw Approach - Leaving the first 2 valued and\n",
        "# # last NaN valued features, all other features are\n",
        "# # dependent and can be considered for training\n",
        "\n",
        "# print(\"Raw Approach of chi square\")\n",
        "# chi_scores = chi2(X_new,y)\n",
        "# p_values = pd.Series(chi_scores[1],index = X_new.columns)\n",
        "# p_values.sort_values(ascending = False , inplace = True)\n",
        "# # p_values.plot.bar()\n",
        "# # print(p_values)"
      ],
      "execution_count": 0,
      "outputs": [
        {
          "output_type": "stream",
          "text": [
            "Selection based on Pearson Correlation\n"
          ],
          "name": "stdout"
        },
        {
          "output_type": "stream",
          "text": [
            "/usr/local/lib/python3.6/dist-packages/numpy/lib/function_base.py:2534: RuntimeWarning: invalid value encountered in true_divide\n",
            "  c /= stddev[:, None]\n",
            "/usr/local/lib/python3.6/dist-packages/numpy/lib/function_base.py:2535: RuntimeWarning: invalid value encountered in true_divide\n",
            "  c /= stddev[None, :]\n"
          ],
          "name": "stderr"
        },
        {
          "output_type": "stream",
          "text": [
            "15 selected features\n",
            "['Flow IAT Max', 'Fwd IAT Max', 'Idle Max', 'Average Packet Size', 'Fwd IAT Std', 'Packet Length Mean', 'Packet Length Variance', 'Max Packet Length', 'Packet Length Std', 'Avg Bwd Segment Size', 'Bwd Packet Length Mean', 'Bwd Packet Length Min', 'Min Packet Length', 'Bwd Packet Length Max', 'Bwd Packet Length Std']\n",
            "Selection based on chi square distibution\n",
            "15 selected features\n",
            "['Flow Duration', 'Bwd Packet Length Max', 'Bwd Packet Length Mean', 'Bwd Packet Length Std', 'Flow IAT Max', 'Fwd IAT Total', 'Fwd IAT Std', 'Fwd IAT Max', 'Packet Length Std', 'Packet Length Variance', 'PSH Flag Count', 'Avg Bwd Segment Size', 'Idle Mean', 'Idle Max', 'Idle Min']\n"
          ],
          "name": "stdout"
        }
      ]
    },
    {
      "cell_type": "markdown",
      "metadata": {
        "id": "TRdNhuCk9bKs",
        "colab_type": "text"
      },
      "source": [
        "# Model_NN"
      ]
    },
    {
      "cell_type": "code",
      "metadata": {
        "id": "TETeYm5gFEwi",
        "colab_type": "code",
        "outputId": "714739ea-b954-432a-efb7-0a0b0d0da4e3",
        "colab": {
          "base_uri": "https://localhost:8080/",
          "height": 74
        }
      },
      "source": [
        "import numpy as np\n",
        "import pandas as pd\n",
        "import torch.nn as nn\n",
        "import torch.optim as optim\n",
        "import sklearn\n",
        "from sklearn.model_selection import train_test_split\n",
        "import torch\n",
        "import torchvision\n",
        "import torchvision.transforms as transforms\n",
        "from torch.utils.data import Dataset, DataLoader\n",
        "import torch.utils.data as data_utils\n",
        "import seaborn as sns\n",
        "import matplotlib.pyplot as plt"
      ],
      "execution_count": 0,
      "outputs": [
        {
          "output_type": "stream",
          "text": [
            "/usr/local/lib/python3.6/dist-packages/statsmodels/tools/_testing.py:19: FutureWarning: pandas.util.testing is deprecated. Use the functions in the public API at pandas.testing instead.\n",
            "  import pandas.util.testing as tm\n"
          ],
          "name": "stderr"
        }
      ]
    },
    {
      "cell_type": "code",
      "metadata": {
        "id": "jhQFksc99B0u",
        "colab_type": "code",
        "colab": {}
      },
      "source": [
        "x1,y1 = X_new[chi_feature], y_train\n",
        "x_test,y_test = X_new_test[chi_feature],y_test\n",
        "#X_new.iloc[:,chi_support]  \n",
        "#x2,y2 = X_new[cor_feature],y_train"
      ],
      "execution_count": 0,
      "outputs": []
    },
    {
      "cell_type": "code",
      "metadata": {
        "id": "RHs5QSbA9XnO",
        "colab_type": "code",
        "colab": {}
      },
      "source": [
        "train = torch.tensor(x1.values.astype(np.float32))\n",
        "train_target = torch.tensor(y1.astype(np.float32))\n",
        "\n",
        "train_dataset = data_utils.TensorDataset(train,train_target)\n",
        "train_loader = data_utils.DataLoader(dataset= train_dataset , batch_size = 64, shuffle = True)"
      ],
      "execution_count": 0,
      "outputs": []
    },
    {
      "cell_type": "code",
      "metadata": {
        "id": "lxdOQo0yV5NU",
        "colab_type": "code",
        "colab": {}
      },
      "source": [
        "test = torch.tensor(x_test.values.astype(np.float32))\n",
        "test_target = torch.tensor(y_test.astype(np.float32))\n",
        "\n",
        "test_dataset = data_utils.TensorDataset(test,test_target)\n",
        "test_loader = data_utils.DataLoader(dataset = test_dataset,batch_size =1, shuffle= False)"
      ],
      "execution_count": 0,
      "outputs": []
    },
    {
      "cell_type": "code",
      "metadata": {
        "id": "6tD-64Y9Hb4f",
        "colab_type": "code",
        "colab": {}
      },
      "source": [
        "class Net(nn.Module):\n",
        "  def __init__(self):\n",
        "    super(Net,self).__init__()\n",
        "    self.fc1 = nn.Linear(15,34)\n",
        "    self.fc2 = nn.Linear(34,52)\n",
        "    self.fc3 = nn.Linear(52,1)\n",
        "    \n",
        "    self.relu = nn.ReLU()\n",
        "    self.dropout = nn.Dropout(p=0.1)\n",
        "    self.batchnorm1 = nn.BatchNorm1d(34)\n",
        "    self.batchnorm2 = nn.BatchNorm1d(52)\n",
        "\n",
        "    # define forward loop\n",
        "  def forward(self, inputs):\n",
        "    x = self.relu(self.fc1(inputs))\n",
        "    x = self.batchnorm1(x)\n",
        "    x = self.relu(self.fc2(x))\n",
        "    x = self.batchnorm2(x)\n",
        "    x = self.dropout(x)\n",
        "    x = self.fc3(x)\n",
        "\n",
        "    return x"
      ],
      "execution_count": 0,
      "outputs": []
    },
    {
      "cell_type": "code",
      "metadata": {
        "id": "6O62b4mnIQBi",
        "colab_type": "code",
        "outputId": "e8323d14-5bcb-413e-ce36-154915f2247f",
        "colab": {
          "base_uri": "https://localhost:8080/",
          "height": 181
        }
      },
      "source": [
        "model = Net()\n",
        "print(model)\n",
        "Loss_function = nn.BCEWithLogitsLoss()\n",
        "Optimizer_with_Regularization_Function = optim.Adam(model.parameters(),lr=0.01)"
      ],
      "execution_count": 0,
      "outputs": [
        {
          "output_type": "stream",
          "text": [
            "Net(\n",
            "  (fc1): Linear(in_features=15, out_features=34, bias=True)\n",
            "  (fc2): Linear(in_features=34, out_features=52, bias=True)\n",
            "  (fc3): Linear(in_features=52, out_features=1, bias=True)\n",
            "  (relu): ReLU()\n",
            "  (dropout): Dropout(p=0.1, inplace=False)\n",
            "  (batchnorm1): BatchNorm1d(34, eps=1e-05, momentum=0.1, affine=True, track_running_stats=True)\n",
            "  (batchnorm2): BatchNorm1d(52, eps=1e-05, momentum=0.1, affine=True, track_running_stats=True)\n",
            ")\n"
          ],
          "name": "stdout"
        }
      ]
    },
    {
      "cell_type": "code",
      "metadata": {
        "id": "fg2nIcplPjoc",
        "colab_type": "code",
        "colab": {}
      },
      "source": [
        "def binary_acc(y_pred,y_batch):\n",
        "  y_pred_rounded = torch.round(torch.sigmoid(y_pred))\n",
        "\n",
        "\n",
        "  correct_result_sum = (y_pred_rounded == y_batch).sum().float()\n",
        "  acc = correct_result_sum / y_batch.shape[0]\n",
        "  acc = torch.round(100* acc)\n",
        "   \n",
        "  return acc"
      ],
      "execution_count": 0,
      "outputs": []
    },
    {
      "cell_type": "code",
      "metadata": {
        "id": "XbD_CAd_Pxvl",
        "colab_type": "code",
        "outputId": "4f694471-5809-4710-a7e9-e37c55d998d5",
        "colab": {
          "base_uri": "https://localhost:8080/",
          "height": 108
        }
      },
      "source": [
        "model.train()\n",
        "epochs = 5\n",
        "for i in range(1,epochs+1):\n",
        "  epochs_loss = 0\n",
        "  epochs_acc = 0\n",
        "  for x_batch,y_batch in train_loader:\n",
        "    Optimizer_with_Regularization_Function.zero_grad()\n",
        "\n",
        "    y_pred = model(x_batch)\n",
        "\n",
        "    #print(y_pred.size())\n",
        "    #print(y_batch.size())\n",
        "    \n",
        "    loss = Loss_function(y_pred,y_batch.unsqueeze(1))\n",
        "    acc = binary_acc(y_pred,y_batch.unsqueeze(1))\n",
        "\n",
        "    #backpropagation\n",
        "    loss.backward()\n",
        "    Optimizer_with_Regularization_Function.step() # 1 time updation\n",
        "    \n",
        "    epochs_loss += loss.item()\n",
        "    epochs_acc += acc.item()\n",
        "\n",
        "\n",
        "  print(f'Epoch {i}: | Loss: {epochs_loss/len(train_loader): .5f} | Acc: {epochs_acc/len(train_loader): .3f}')"
      ],
      "execution_count": 0,
      "outputs": [
        {
          "output_type": "stream",
          "text": [
            "Epoch 1: | Loss:  0.25733 | Acc:  87.772\n",
            "Epoch 2: | Loss:  0.23232 | Acc:  88.437\n",
            "Epoch 3: | Loss:  0.22337 | Acc:  88.902\n",
            "Epoch 4: | Loss:  0.22023 | Acc:  89.097\n",
            "Epoch 5: | Loss:  0.21676 | Acc:  89.216\n"
          ],
          "name": "stdout"
        }
      ]
    },
    {
      "cell_type": "code",
      "metadata": {
        "id": "DYQuiWedP2YX",
        "colab_type": "code",
        "colab": {}
      },
      "source": [
        "model.eval()\n",
        "\n",
        "y_pred_list = []\n",
        "y_correct_list = []\n",
        "\n",
        "with torch.no_grad():\n",
        "  for x_batch,y_batch in test_loader:\n",
        "    y_pred = model(x_batch)\n",
        "    y_pred = torch.sigmoid(y_pred)\n",
        "    y_pred_list.append(y_pred.cpu().numpy())\n",
        "    y_correct_list.append(y_batch.numpy())   #numpy arrays will be formed,will convert arrays into list\n",
        "\n",
        "\n",
        "y_pred_list = [a.squeeze().tolist() for a in y_pred_list]\n",
        "y_correct_list = [a.squeeze().tolist() for a in y_correct_list]"
      ],
      "execution_count": 0,
      "outputs": []
    },
    {
      "cell_type": "code",
      "metadata": {
        "id": "uDM2VW3GYFEZ",
        "colab_type": "code",
        "colab": {}
      },
      "source": [
        "y_pred_ana = []\n",
        "y_pred_non = []\n",
        "\n",
        "len_of_list = len(y_pred_list)\n",
        "\n",
        "for i in range(0,len_of_list):\n",
        "  if y_correct_list[i] == 0:\n",
        "    y_pred_non.append(y_pred_list[i])\n",
        "  else:\n",
        "    y_pred_ana.append(y_pred_list[i])\n",
        "\n",
        "y_pred_non = [i*100 for i in y_pred_non]\n",
        "y_pred_ana = [i*100 for i in y_pred_ana]"
      ],
      "execution_count": 0,
      "outputs": []
    },
    {
      "cell_type": "code",
      "metadata": {
        "id": "VpO9BRx2ZdwC",
        "colab_type": "code",
        "outputId": "e4f918b0-e9dd-4597-8d90-50106e2c2f52",
        "colab": {
          "base_uri": "https://localhost:8080/",
          "height": 297
        }
      },
      "source": [
        "data = y_pred_non\n",
        "bins = np.linspace(0, 100, 25, endpoint=True)\n",
        "plt.hist(data,bins,color='green',alpha=0.5,label='non_spam')\n",
        "\n",
        "data1 = y_pred_ana\n",
        "plt.hist(data1,bins,color='red',alpha=0.6,label='spam')\n",
        "\n",
        "plt.legend(bbox_to_anchor=(1.05,1),loc='upper left')\n",
        "plt.xlabel('Anamoaly Score')\n",
        "plt.ylabel('Occurences')"
      ],
      "execution_count": 0,
      "outputs": [
        {
          "output_type": "execute_result",
          "data": {
            "text/plain": [
              "Text(0, 0.5, 'Occurences')"
            ]
          },
          "metadata": {
            "tags": []
          },
          "execution_count": 13
        },
        {
          "output_type": "display_data",
          "data": {
            "image/png": "[encoded data removed]",
            "text/plain": [
              "<Figure size 432x288 with 1 Axes>"
            ]
          },
          "metadata": {
            "tags": [],
            "needs_background": "light"
          }
        }
      ]
    },
    {
      "cell_type": "code",
      "metadata": {
        "id": "1DNKaad1aLl9",
        "colab_type": "code",
        "outputId": "393150c7-7ff7-4b3c-8d46-e508bbb07112",
        "colab": {
          "base_uri": "https://localhost:8080/",
          "height": 181
        }
      },
      "source": [
        "from sklearn.metrics import classification_report\n",
        "\n",
        "y_test = np.array(y_test)\n",
        "y_pred_list = np.array(y_pred_list)\n",
        "\n",
        "print(classification_report(y_test,y_pred_list.round(),target_names = [\"Normal\",\"Abnormal\"]))"
      ],
      "execution_count": 0,
      "outputs": [
        {
          "output_type": "stream",
          "text": [
            "              precision    recall  f1-score   support\n",
            "\n",
            "      Normal       0.86      0.98      0.91     34068\n",
            "    Abnormal       0.97      0.81      0.88     29203\n",
            "\n",
            "    accuracy                           0.90     63271\n",
            "   macro avg       0.91      0.89      0.90     63271\n",
            "weighted avg       0.91      0.90      0.90     63271\n",
            "\n"
          ],
          "name": "stdout"
        }
      ]
    },
    {
      "cell_type": "markdown",
      "metadata": {
        "id": "ngbGaZ8LY65F",
        "colab_type": "text"
      },
      "source": [
        "# Model_Random_Forest"
      ]
    },
    {
      "cell_type": "code",
      "metadata": {
        "id": "Q8XXwdnpZgfQ",
        "colab_type": "code",
        "colab": {}
      },
      "source": [
        "x1,y1 = X_new[chi_feature], y_train\n",
        "x_test,y_test = X_new_test[chi_feature],y_test"
      ],
      "execution_count": 0,
      "outputs": []
    },
    {
      "cell_type": "code",
      "metadata": {
        "id": "CnsVH-YlZ9rN",
        "colab_type": "code",
        "outputId": "717243fd-2475-4e6d-e9b6-3d8ec0a3d3fa",
        "colab": {
          "base_uri": "https://localhost:8080/",
          "height": 163
        }
      },
      "source": [
        "from sklearn.ensemble import RandomForestClassifier\n",
        "classifier = RandomForestClassifier(n_estimators = 70)\n",
        "classifier.fit(x1,y1)"
      ],
      "execution_count": 0,
      "outputs": [
        {
          "output_type": "execute_result",
          "data": {
            "text/plain": [
              "RandomForestClassifier(bootstrap=True, ccp_alpha=0.0, class_weight=None,\n",
              "                       criterion='gini', max_depth=None, max_features='auto',\n",
              "                       max_leaf_nodes=None, max_samples=None,\n",
              "                       min_impurity_decrease=0.0, min_impurity_split=None,\n",
              "                       min_samples_leaf=1, min_samples_split=2,\n",
              "                       min_weight_fraction_leaf=0.0, n_estimators=70,\n",
              "                       n_jobs=None, oob_score=False, random_state=None,\n",
              "                       verbose=0, warm_start=False)"
            ]
          },
          "metadata": {
            "tags": []
          },
          "execution_count": 16
        }
      ]
    },
    {
      "cell_type": "code",
      "metadata": {
        "id": "DmdPccmKa01W",
        "colab_type": "code",
        "colab": {}
      },
      "source": [
        "y_pred = classifier.predict(x_test)"
      ],
      "execution_count": 0,
      "outputs": []
    },
    {
      "cell_type": "code",
      "metadata": {
        "id": "mzzZHPTfbHzt",
        "colab_type": "code",
        "outputId": "c2f5da0a-7c59-4bc1-ece5-90de7dfa5d67",
        "colab": {
          "base_uri": "https://localhost:8080/",
          "height": 272
        }
      },
      "source": [
        "from sklearn.metrics import classification_report, confusion_matrix, accuracy_score\n",
        "result = confusion_matrix(y_test,y_pred)\n",
        "print(\"Confusion Matrix:\")\n",
        "print(result)\n",
        "result1 = classification_report(y_test,y_pred)\n",
        "print(\"Classification Report:\",)\n",
        "print (result1)\n",
        "result2 = accuracy_score(y_test,y_pred)\n",
        "print(\"Accuracy:\",result2)"
      ],
      "execution_count": 0,
      "outputs": [
        {
          "output_type": "stream",
          "text": [
            "Confusion Matrix:\n",
            "[[33811   257]\n",
            " [ 3838 25365]]\n",
            "Classification Report:\n",
            "              precision    recall  f1-score   support\n",
            "\n",
            "           0       0.90      0.99      0.94     34068\n",
            "           1       0.99      0.87      0.93     29203\n",
            "\n",
            "    accuracy                           0.94     63271\n",
            "   macro avg       0.94      0.93      0.93     63271\n",
            "weighted avg       0.94      0.94      0.93     63271\n",
            "\n",
            "Accuracy: 0.9352784055886583\n"
          ],
          "name": "stdout"
        }
      ]
    },
    {
      "cell_type": "markdown",
      "metadata": {
        "id": "Btg5lMYA2ZZP",
        "colab_type": "text"
      },
      "source": [
        "# Hyperparameter Tuning for RF"
      ]
    },
    {
      "cell_type": "code",
      "metadata": {
        "id": "NZCK2DWh2her",
        "colab_type": "code",
        "outputId": "2524f148-5042-41be-afe1-f5b5980ad298",
        "colab": {
          "base_uri": "https://localhost:8080/",
          "height": 90
        }
      },
      "source": [
        "model = classifier\n",
        "grid = {'n_estimators': [10, 13,15,20,70,100,150]\n",
        "        #'max_features': [0.05, 0.07, 0.15, 0.25],\n",
        "        #'min_samples_split': [2, 10,50,200]\n",
        "        }\n",
        "\n",
        "rf_gridsearch = sklearn.model_selection.GridSearchCV(estimator=model, param_grid=grid, n_jobs=4, \n",
        "                             cv=None, verbose=5, return_train_score=True)\n",
        "\n",
        "rf_gridsearch.fit(x1, y1)\n",
        "\n",
        "# and after some hours...\n",
        "df_gridsearch = pd.DataFrame(rf_gridsearch.cv_results_)"
      ],
      "execution_count": 0,
      "outputs": [
        {
          "output_type": "stream",
          "text": [
            "Fitting 5 folds for each of 7 candidates, totalling 35 fits\n"
          ],
          "name": "stdout"
        },
        {
          "output_type": "stream",
          "text": [
            "[Parallel(n_jobs=4)]: Using backend LokyBackend with 4 concurrent workers.\n",
            "[Parallel(n_jobs=4)]: Done  10 tasks      | elapsed:   48.7s\n",
            "[Parallel(n_jobs=4)]: Done  35 out of  35 | elapsed:  9.9min finished\n"
          ],
          "name": "stderr"
        }
      ]
    },
    {
      "cell_type": "code",
      "metadata": {
        "id": "AZsX1yIu2o4_",
        "colab_type": "code",
        "outputId": "f1f944e3-0745-4bea-e7db-62f6478ca17d",
        "colab": {
          "base_uri": "https://localhost:8080/",
          "height": 217
        }
      },
      "source": [
        "model = classifier\n",
        "grid2 = {#'n_estimators': [10, 13,15,20,70,100,150]\n",
        "        'max_features': [0.05, 0.07, 0.15, 0.25],\n",
        "        #'min_samples_split': [2, 10,50,200]\n",
        "        }\n",
        "\n",
        "rf_gridsearch2 = sklearn.model_selection.GridSearchCV(estimator=model, param_grid=grid2, n_jobs=4, \n",
        "                             cv=3, verbose=5, return_train_score=True)\n",
        "\n",
        "rf_gridsearch2.fit(x1, y1)\n",
        "\n",
        "# and after some hours...\n",
        "df_gridsearch2 = pd.DataFrame(rf_gridsearch2.cv_results_)\n",
        "print(df_gridsearch2.columns)"
      ],
      "execution_count": 0,
      "outputs": [
        {
          "output_type": "stream",
          "text": [
            "Fitting 3 folds for each of 4 candidates, totalling 12 fits\n"
          ],
          "name": "stdout"
        },
        {
          "output_type": "stream",
          "text": [
            "[Parallel(n_jobs=4)]: Using backend LokyBackend with 4 concurrent workers.\n",
            "[Parallel(n_jobs=4)]: Done   8 out of  12 | elapsed:  1.6min remaining:   49.0s\n",
            "[Parallel(n_jobs=4)]: Done  12 out of  12 | elapsed:  2.6min finished\n"
          ],
          "name": "stderr"
        },
        {
          "output_type": "stream",
          "text": [
            "Index(['mean_fit_time', 'std_fit_time', 'mean_score_time', 'std_score_time',\n",
            "       'param_max_features', 'params', 'split0_test_score',\n",
            "       'split1_test_score', 'split2_test_score', 'mean_test_score',\n",
            "       'std_test_score', 'rank_test_score', 'split0_train_score',\n",
            "       'split1_train_score', 'split2_train_score', 'mean_train_score',\n",
            "       'std_train_score'],\n",
            "      dtype='object')\n"
          ],
          "name": "stdout"
        }
      ]
    },
    {
      "cell_type": "code",
      "metadata": {
        "id": "ADoCNTUi2xkH",
        "colab_type": "code",
        "outputId": "9b79add7-d9c4-4e03-d58b-a865acca21f3",
        "colab": {
          "base_uri": "https://localhost:8080/",
          "height": 141
        }
      },
      "source": [
        "print(df_gridsearch2.columns)"
      ],
      "execution_count": 0,
      "outputs": [
        {
          "output_type": "stream",
          "text": [
            "Index(['mean_fit_time', 'std_fit_time', 'mean_score_time', 'std_score_time',\n",
            "       'param_max_features', 'params', 'split0_test_score',\n",
            "       'split1_test_score', 'split2_test_score', 'mean_test_score',\n",
            "       'std_test_score', 'rank_test_score', 'split0_train_score',\n",
            "       'split1_train_score', 'split2_train_score', 'mean_train_score',\n",
            "       'std_train_score'],\n",
            "      dtype='object')\n"
          ],
          "name": "stdout"
        }
      ]
    },
    {
      "cell_type": "code",
      "metadata": {
        "id": "jbIZRMcq22pV",
        "colab_type": "code",
        "outputId": "445f2f0b-f795-4c63-c8e9-1cfe732ac6ce",
        "colab": {
          "base_uri": "https://localhost:8080/",
          "height": 87
        }
      },
      "source": [
        "model = classifier\n",
        "grid3 = {#'n_estimators': [10, 13,15,20,70,100,150]\n",
        "        #'max_features': [0.05, 0.07, 0.15, 0.25],\n",
        "        'min_samples_split': [2, 10,50,200]\n",
        "        }\n",
        "\n",
        "rf_gridsearch3 = sklearn.model_selection.GridSearchCV(estimator=model, param_grid=grid3, n_jobs=4, \n",
        "                             cv=3, verbose=5, return_train_score=True)\n",
        "\n",
        "rf_gridsearch3.fit(x1, y1)\n",
        "\n",
        "# and after some hours...\n",
        "df_gridsearch3 = pd.DataFrame(rf_gridsearch3.cv_results_)"
      ],
      "execution_count": 0,
      "outputs": [
        {
          "output_type": "stream",
          "text": [
            "Fitting 3 folds for each of 4 candidates, totalling 12 fits\n"
          ],
          "name": "stdout"
        },
        {
          "output_type": "stream",
          "text": [
            "[Parallel(n_jobs=4)]: Using backend LokyBackend with 4 concurrent workers.\n",
            "[Parallel(n_jobs=4)]: Done   8 out of  12 | elapsed:  2.3min remaining:  1.2min\n",
            "[Parallel(n_jobs=4)]: Done  12 out of  12 | elapsed:  3.5min finished\n"
          ],
          "name": "stderr"
        }
      ]
    },
    {
      "cell_type": "code",
      "metadata": {
        "id": "9FsfpJd82-tS",
        "colab_type": "code",
        "outputId": "3fc27ba3-485d-4a1c-da9e-388e0d208e20",
        "colab": {
          "base_uri": "https://localhost:8080/"
        }
      },
      "source": [
        "fig, (ax1, ax2, ax3) = plt.subplots(1, 3, figsize=(15,8))\n",
        "\n",
        "sns.axes_style(\"darkgrid\")\n",
        "sns.lineplot(x=\"param_n_estimators\", y=\"mean_test_score\",\n",
        "             data=df_gridsearch,markers=True, dashes=False,err_style=None,palette = 'Set1',label='Test Score',ax=ax1)\n",
        "sns.lineplot(x=\"param_n_estimators\", y=\"mean_train_score\",\n",
        "             data=df_gridsearch,markers=True, dashes=False,err_style=None,palette = 'Set1',label='Train Score',ax=ax1)\n",
        "ax1.set(xlabel='Number of estimators', ylabel='Scores',title = \"Validation Scores\")\n",
        "ax1.legend()\n",
        "\n",
        "sns.lineplot(x=\"param_max_features\", y=\"mean_test_score\",\n",
        "             data=df_gridsearch2,markers=True, dashes=False,err_style=None,palette = 'Set1',label='Test Score',ax=ax2)\n",
        "sns.lineplot(x=\"param_max_features\", y=\"mean_train_score\",\n",
        "             data=df_gridsearch2,markers=True, dashes=False,err_style=None,palette = 'Set1',label='Train Score',ax=ax2)\n",
        "ax2.set(xlabel='max_features', ylabel='',title = \"Validation Scores\")\n",
        "ax2.get_yaxis().set_ticks([])\n",
        "ax2.legend()\n",
        "\n",
        "sns.lineplot(x=\"param_min_samples_split\", y=\"mean_test_score\",\n",
        "             data=df_gridsearch3,markers=True, dashes=False,err_style=None,palette = 'Set1',label='Test Score',ax=ax3)\n",
        "sns.lineplot(x=\"param_min_samples_split\", y=\"mean_train_score\",\n",
        "             data=df_gridsearch3,markers=True, dashes=False,err_style=None,palette = 'Set1',label='Train Score',ax=ax3)\n",
        "ax3.set(xlabel='min_samples_split', ylabel='',title = \"Validation Scores\")\n",
        "ax3.get_yaxis().set_ticks([])\n",
        "ax3.legend()"
      ],
      "execution_count": 0,
      "outputs": [
        {
          "output_type": "execute_result",
          "data": {
            "text/plain": [
              "<matplotlib.legend.Legend at 0x7f4e1b49a5c0>"
            ]
          },
          "metadata": {
            "tags": []
          },
          "execution_count": 23
        },
        {
          "output_type": "display_data",
          "data": {
            "image/png": "[encoded data removed]",
            "text/plain": [
              "<Figure size 1080x576 with 3 Axes>"
            ]
          },
          "metadata": {
            "tags": [],
            "needs_background": "light"
          }
        }
      ]
    },
    {
      "cell_type": "markdown",
      "metadata": {
        "id": "0oAiOdhJi6Bc",
        "colab_type": "text"
      },
      "source": [
        "# Model_SVM\n",
        "\n",
        "\n",
        "\n"
      ]
    },
    {
      "cell_type": "code",
      "metadata": {
        "id": "AFsd0XWEi__H",
        "colab_type": "code",
        "outputId": "8175defb-90ca-4b54-efa2-cd49f1449354",
        "colab": {
          "base_uri": "https://localhost:8080/"
        }
      },
      "source": [
        "import numpy as np\n",
        "import cvxopt\n",
        "from sklearn.datasets.samples_generator import make_blobs\n",
        "from sklearn.model_selection import train_test_split\n",
        "from matplotlib import pyplot as plt\n",
        "from sklearn.svm import LinearSVC\n",
        "from sklearn.metrics import confusion_matrix"
      ],
      "execution_count": 0,
      "outputs": [
        {
          "output_type": "stream",
          "text": [
            "/usr/local/lib/python3.6/dist-packages/sklearn/utils/deprecation.py:144: FutureWarning: The sklearn.datasets.samples_generator module is  deprecated in version 0.22 and will be removed in version 0.24. The corresponding classes / functions should instead be imported from sklearn.datasets. Anything that cannot be imported from sklearn.datasets is now part of the private API.\n",
            "  warnings.warn(message, FutureWarning)\n"
          ],
          "name": "stderr"
        }
      ]
    },
    {
      "cell_type": "code",
      "metadata": {
        "id": "F-FuFDYACB7Z",
        "colab_type": "code",
        "outputId": "5d7178d5-7c06-403e-8dcf-8b381088ccf7",
        "colab": {
          "base_uri": "https://localhost:8080/",
          "height": 87
        }
      },
      "source": [
        "svc = LinearSVC()\n",
        "svc.fit(x1,y1)"
      ],
      "execution_count": 0,
      "outputs": [
        {
          "output_type": "execute_result",
          "data": {
            "text/plain": [
              "LinearSVC(C=1.0, class_weight=None, dual=True, fit_intercept=True,\n",
              "          intercept_scaling=1, loss='squared_hinge', max_iter=1000,\n",
              "          multi_class='ovr', penalty='l2', random_state=None, tol=0.0001,\n",
              "          verbose=0)"
            ]
          },
          "metadata": {
            "tags": []
          },
          "execution_count": 25
        }
      ]
    },
    {
      "cell_type": "code",
      "metadata": {
        "id": "gx9knaKnC_Ra",
        "colab_type": "code",
        "outputId": "9ec8921c-232b-4f9b-efd4-cda10a33de8f",
        "colab": {
          "base_uri": "https://localhost:8080/"
        }
      },
      "source": [
        "y_pred = svc.predict(x_test)\n",
        "confusion_matrix(y_test, y_pred)"
      ],
      "execution_count": 0,
      "outputs": [
        {
          "output_type": "execute_result",
          "data": {
            "text/plain": [
              "array([[31288,  2780],\n",
              "       [ 7992, 21211]])"
            ]
          },
          "metadata": {
            "tags": []
          },
          "execution_count": 26
        }
      ]
    },
    {
      "cell_type": "code",
      "metadata": {
        "id": "oAaNQLLvDpZ5",
        "colab_type": "code",
        "outputId": "a1a44672-fe39-426b-fc13-f3147ffec02f",
        "colab": {
          "base_uri": "https://localhost:8080/"
        }
      },
      "source": [
        "result1 = classification_report(y_test,y_pred)\n",
        "print(\"Classification Report:\",)\n",
        "print (result1)\n",
        "result2 = accuracy_score(y_test,y_pred)\n",
        "print(\"Accuracy:\",result2)"
      ],
      "execution_count": 0,
      "outputs": [
        {
          "output_type": "stream",
          "text": [
            "Classification Report:\n",
            "              precision    recall  f1-score   support\n",
            "\n",
            "           0       0.80      0.92      0.85     34068\n",
            "           1       0.88      0.73      0.80     29203\n",
            "\n",
            "    accuracy                           0.83     63271\n",
            "   macro avg       0.84      0.82      0.83     63271\n",
            "weighted avg       0.84      0.83      0.83     63271\n",
            "\n",
            "Accuracy: 0.8297482258854768\n"
          ],
          "name": "stdout"
        }
      ]
    },
    {
      "cell_type": "code",
      "metadata": {
        "id": "yUFdwqx1D4Q-",
        "colab_type": "code",
        "colab": {}
      },
      "source": [
        ""
      ],
      "execution_count": 0,
      "outputs": []
    },
    {
      "cell_type": "code",
      "metadata": {
        "id": "D4BFCKg6ECf8",
        "colab_type": "code",
        "colab": {}
      },
      "source": [
        ""
      ],
      "execution_count": 0,
      "outputs": []
    }
  ]
}